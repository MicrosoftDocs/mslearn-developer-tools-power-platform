{
 "cells": [
  {
   "cell_type": "markdown",
   "id": "0",
   "metadata": {},
   "source": [
    "## How to use in Local?\n",
    "\n",
    "1. Download this repo locally.\n",
    "1. Run this sample notebook which shows how to:\n",
    "    1. Generate a mapping config file from a given conceptual mapping spreadsheet.\n",
    "    1. Read raw data from a given input directory, and use the mapping config file to generate transformed data in the given output directory.\n"
   ]
  },
  {
   "cell_type": "markdown",
   "id": "1",
   "metadata": {},
   "source": [
    "## Imports"
   ]
  },
  {
   "cell_type": "code",
   "execution_count": 1,
   "id": "2",
   "metadata": {},
   "outputs": [],
   "source": [
    "import os\n",
    "import transform\n",
    "import create_config\n",
    "import pandas as pd"
   ]
  },
  {
   "cell_type": "markdown",
   "id": "3",
   "metadata": {},
   "source": [
    "## Parameters"
   ]
  },
  {
   "cell_type": "code",
   "execution_count": 2,
   "id": "4",
   "metadata": {},
   "outputs": [],
   "source": [
    " # Folder from where to read the raw data.\n",
    "INPUT_DATA_FOLDER = \"../data/raw\"\n",
    "\n",
    "# Folder from where to read the entity metadata.\n",
    "ENTITY_PATH = \"../../appendix/Entities/\"\n",
    "\n",
    "# Folder to where to write the mapping config file.\n",
    "CONFIG_FOLDER = \"../config\"\n",
    "\n",
    "# Folder to where to write the transformed data.\n",
    "OUTPUT_DATA_FOLDER = \"../data/transformed\""
   ]
  },
  {
   "cell_type": "code",
   "execution_count": 3,
   "id": "5",
   "metadata": {},
   "outputs": [],
   "source": [
    "EXCEL_MAPPING_FILE = f\"{CONFIG_FOLDER}/conceptual-mapping.xlsx\"\n",
    "OUTPUT_MAPPING_FOLDER = f\"{OUTPUT_DATA_FOLDER}/mapping\"\n",
    "CONFIG_FILE = f\"{CONFIG_FOLDER}/config.json\"\n",
    "\n",
    "# CREATE THE OUTPUT FOLDER IF NOT EXISTING\n",
    "if not os.path.exists(OUTPUT_MAPPING_FOLDER):\n",
    "    os.makedirs(OUTPUT_MAPPING_FOLDER)\n",
    "if not os.path.exists(CONFIG_FOLDER):\n",
    "    os.makedirs(CONFIG_FOLDER)"
   ]
  },
  {
   "cell_type": "markdown",
   "id": "6",
   "metadata": {},
   "source": [
    "## Creating Configuration File"
   ]
  },
  {
   "cell_type": "code",
   "execution_count": null,
   "id": "7",
   "metadata": {},
   "outputs": [],
   "source": [
    "config_dictionary = create_config.create_entity_mappings_config(EXCEL_MAPPING_FILE)\n",
    "config_dictionary = create_config.create_relationship_mappings_config(EXCEL_MAPPING_FILE, config_dictionary)\n",
    "create_config.write_config_json(config_dictionary, CONFIG_FILE)"
   ]
  },
  {
   "cell_type": "markdown",
   "id": "8",
   "metadata": {},
   "source": [
    "## Extracting Variables from Config"
   ]
  },
  {
   "cell_type": "code",
   "execution_count": 5,
   "id": "9",
   "metadata": {},
   "outputs": [],
   "source": [
    "df = pd.read_json(CONFIG_FILE, typ=\"series\")\n",
    "ENTITY_LIST = df['entity_list']\n",
    "RELATIONSHIP_LIST = df['relationship_list']"
   ]
  },
  {
   "cell_type": "markdown",
   "id": "10",
   "metadata": {},
   "source": [
    "## Transform the raw data"
   ]
  },
  {
   "cell_type": "code",
   "execution_count": null,
   "id": "11",
   "metadata": {},
   "outputs": [],
   "source": [
    "transform.cache_entity_metadata(ENTITY_LIST, ENTITY_PATH)\n",
    "transform.write_entity_data(INPUT_DATA_FOLDER, OUTPUT_DATA_FOLDER, OUTPUT_MAPPING_FOLDER, ENTITY_LIST, RELATIONSHIP_LIST)"
   ]
  }
 ],
 "metadata": {
  "kernelspec": {
   "display_name": "Python 3",
   "language": "python",
   "name": "python3"
  },
  "language_info": {
   "codemirror_mode": {
    "name": "ipython",
    "version": 3
   },
   "file_extension": ".py",
   "mimetype": "text/x-python",
   "name": "python",
   "nbconvert_exporter": "python",
   "pygments_lexer": "ipython3",
   "version": "3.12.8"
  }
 },
 "nbformat": 4,
 "nbformat_minor": 5
}
